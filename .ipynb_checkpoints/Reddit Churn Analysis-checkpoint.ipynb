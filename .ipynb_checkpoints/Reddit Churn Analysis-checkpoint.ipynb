{
 "cells": [
  {
   "cell_type": "markdown",
   "metadata": {},
   "source": [
    "# Reddit Churn Analysis\n",
    "* Instructor: `Shahbaz Chaudhary`\n",
    "* Team: MSCA Data Scientists \n",
    "  * `Zoila Joyo Calderon`\n",
    "  * `Lauren Sample`\n",
    "  * `Ruobing Xue`\n",
    "  * `Elly Yang`"
   ]
  },
  {
   "cell_type": "markdown",
   "metadata": {},
   "source": [
    "## Load Data"
   ]
  },
  {
   "cell_type": "code",
   "execution_count": 1,
   "metadata": {},
   "outputs": [
    {
     "name": "stdout",
     "output_type": "stream",
     "text": [
      "<class 'pandas.core.frame.DataFrame'>\n",
      "RangeIndex: 234225454 entries, 0 to 234225453\n",
      "Data columns (total 3 columns):\n",
      " #   Column       Dtype   \n",
      "---  ------       -----   \n",
      " 0   created_utc  int64   \n",
      " 1   author       category\n",
      " 2   subreddit    category\n",
      "dtypes: category(2), int64(1)\n",
      "memory usage: 3.6 GB\n"
     ]
    }
   ],
   "source": [
    "import numpy as np\n",
    "import pandas as pd\n",
    "DF = pd.read_feather('RC_2012_year_cohort.feather')\n",
    "DF.info()"
   ]
  },
  {
   "cell_type": "code",
   "execution_count": 2,
   "metadata": {},
   "outputs": [
    {
     "data": {
      "text/html": [
       "<div>\n",
       "<style scoped>\n",
       "    .dataframe tbody tr th:only-of-type {\n",
       "        vertical-align: middle;\n",
       "    }\n",
       "\n",
       "    .dataframe tbody tr th {\n",
       "        vertical-align: top;\n",
       "    }\n",
       "\n",
       "    .dataframe thead th {\n",
       "        text-align: right;\n",
       "    }\n",
       "</style>\n",
       "<table border=\"1\" class=\"dataframe\">\n",
       "  <thead>\n",
       "    <tr style=\"text-align: right;\">\n",
       "      <th></th>\n",
       "      <th>created_utc</th>\n",
       "      <th>author</th>\n",
       "      <th>subreddit</th>\n",
       "    </tr>\n",
       "  </thead>\n",
       "  <tbody>\n",
       "    <tr>\n",
       "      <th>0</th>\n",
       "      <td>1325376000</td>\n",
       "      <td>irwinator</td>\n",
       "      <td>AskReddit</td>\n",
       "    </tr>\n",
       "    <tr>\n",
       "      <th>1</th>\n",
       "      <td>1325376000</td>\n",
       "      <td>reed311</td>\n",
       "      <td>politics</td>\n",
       "    </tr>\n",
       "    <tr>\n",
       "      <th>2</th>\n",
       "      <td>1325376000</td>\n",
       "      <td>sagapo3851</td>\n",
       "      <td>gaming</td>\n",
       "    </tr>\n",
       "    <tr>\n",
       "      <th>3</th>\n",
       "      <td>1325376000</td>\n",
       "      <td>filthgrinder</td>\n",
       "      <td>politics</td>\n",
       "    </tr>\n",
       "    <tr>\n",
       "      <th>4</th>\n",
       "      <td>1325376001</td>\n",
       "      <td>BitterDivorcedDad</td>\n",
       "      <td>WTF</td>\n",
       "    </tr>\n",
       "  </tbody>\n",
       "</table>\n",
       "</div>"
      ],
      "text/plain": [
       "   created_utc             author  subreddit\n",
       "0   1325376000          irwinator  AskReddit\n",
       "1   1325376000            reed311   politics\n",
       "2   1325376000         sagapo3851     gaming\n",
       "3   1325376000       filthgrinder   politics\n",
       "4   1325376001  BitterDivorcedDad        WTF"
      ]
     },
     "execution_count": 2,
     "metadata": {},
     "output_type": "execute_result"
    }
   ],
   "source": [
    "DF.head()"
   ]
  },
  {
   "cell_type": "markdown",
   "metadata": {},
   "source": [
    "## Find the top 10 subreddits"
   ]
  },
  {
   "cell_type": "code",
   "execution_count": 3,
   "metadata": {},
   "outputs": [
    {
     "data": {
      "text/plain": [
       "['AskReddit',\n",
       " 'funny',\n",
       " 'pics',\n",
       " 'gaming',\n",
       " 'WTF',\n",
       " 'politics',\n",
       " 'atheism',\n",
       " 'leagueoflegends',\n",
       " 'IAmA',\n",
       " 'trees']"
      ]
     },
     "execution_count": 3,
     "metadata": {},
     "output_type": "execute_result"
    }
   ],
   "source": [
    "top10 = DF.groupby('subreddit').size().sort_values(ascending=False)[:10].index.tolist()\n",
    "top10"
   ]
  },
  {
   "cell_type": "markdown",
   "metadata": {},
   "source": [
    "## Zoom in on one subreddit"
   ]
  },
  {
   "cell_type": "code",
   "execution_count": 4,
   "metadata": {},
   "outputs": [
    {
     "data": {
      "text/html": [
       "<div>\n",
       "<style scoped>\n",
       "    .dataframe tbody tr th:only-of-type {\n",
       "        vertical-align: middle;\n",
       "    }\n",
       "\n",
       "    .dataframe tbody tr th {\n",
       "        vertical-align: top;\n",
       "    }\n",
       "\n",
       "    .dataframe thead th {\n",
       "        text-align: right;\n",
       "    }\n",
       "</style>\n",
       "<table border=\"1\" class=\"dataframe\">\n",
       "  <thead>\n",
       "    <tr style=\"text-align: right;\">\n",
       "      <th></th>\n",
       "      <th>created_utc</th>\n",
       "      <th>author</th>\n",
       "    </tr>\n",
       "  </thead>\n",
       "  <tbody>\n",
       "    <tr>\n",
       "      <th>0</th>\n",
       "      <td>1325376000</td>\n",
       "      <td>irwinator</td>\n",
       "    </tr>\n",
       "    <tr>\n",
       "      <th>30</th>\n",
       "      <td>1325376005</td>\n",
       "      <td>AddictivePotential</td>\n",
       "    </tr>\n",
       "    <tr>\n",
       "      <th>40</th>\n",
       "      <td>1325376006</td>\n",
       "      <td>Solumin</td>\n",
       "    </tr>\n",
       "    <tr>\n",
       "      <th>76</th>\n",
       "      <td>1325376012</td>\n",
       "      <td>AliasSigma</td>\n",
       "    </tr>\n",
       "    <tr>\n",
       "      <th>79</th>\n",
       "      <td>1325376013</td>\n",
       "      <td>[deleted]</td>\n",
       "    </tr>\n",
       "  </tbody>\n",
       "</table>\n",
       "</div>"
      ],
      "text/plain": [
       "    created_utc              author\n",
       "0    1325376000           irwinator\n",
       "30   1325376005  AddictivePotential\n",
       "40   1325376006             Solumin\n",
       "76   1325376012          AliasSigma\n",
       "79   1325376013           [deleted]"
      ]
     },
     "execution_count": 4,
     "metadata": {},
     "output_type": "execute_result"
    }
   ],
   "source": [
    "# using subreddit 'AskReddit' as an example\n",
    "i = 'AskReddit'\n",
    "df = DF.loc[DF['subreddit']==i, ['created_utc', 'author']]\n",
    "df.head()"
   ]
  },
  {
   "cell_type": "markdown",
   "metadata": {},
   "source": [
    "## Find the date of first interaction for that subreddit"
   ]
  },
  {
   "cell_type": "code",
   "execution_count": 5,
   "metadata": {},
   "outputs": [
    {
     "data": {
      "text/html": [
       "<div>\n",
       "<style scoped>\n",
       "    .dataframe tbody tr th:only-of-type {\n",
       "        vertical-align: middle;\n",
       "    }\n",
       "\n",
       "    .dataframe tbody tr th {\n",
       "        vertical-align: top;\n",
       "    }\n",
       "\n",
       "    .dataframe thead th {\n",
       "        text-align: right;\n",
       "    }\n",
       "</style>\n",
       "<table border=\"1\" class=\"dataframe\">\n",
       "  <thead>\n",
       "    <tr style=\"text-align: right;\">\n",
       "      <th></th>\n",
       "      <th>day0</th>\n",
       "    </tr>\n",
       "    <tr>\n",
       "      <th>author</th>\n",
       "      <th></th>\n",
       "    </tr>\n",
       "  </thead>\n",
       "  <tbody>\n",
       "    <tr>\n",
       "      <th>penisapologies</th>\n",
       "      <td>2012-01-01</td>\n",
       "    </tr>\n",
       "    <tr>\n",
       "      <th>xDeda</th>\n",
       "      <td>2012-01-01</td>\n",
       "    </tr>\n",
       "    <tr>\n",
       "      <th>SimplyBilly</th>\n",
       "      <td>2012-01-01</td>\n",
       "    </tr>\n",
       "    <tr>\n",
       "      <th>Simpleton216</th>\n",
       "      <td>2012-01-01</td>\n",
       "    </tr>\n",
       "    <tr>\n",
       "      <th>SimpleSimian</th>\n",
       "      <td>2012-01-01</td>\n",
       "    </tr>\n",
       "  </tbody>\n",
       "</table>\n",
       "</div>"
      ],
      "text/plain": [
       "                      day0\n",
       "author                    \n",
       "penisapologies  2012-01-01\n",
       "xDeda           2012-01-01\n",
       "SimplyBilly     2012-01-01\n",
       "Simpleton216    2012-01-01\n",
       "SimpleSimian    2012-01-01"
      ]
     },
     "execution_count": 5,
     "metadata": {},
     "output_type": "execute_result"
    }
   ],
   "source": [
    "df['created_utc'] = pd.to_datetime(df['created_utc'], unit='s').dt.date\n",
    "day0 = df.groupby('author').agg({'created_utc': np.min}).sort_values(by='created_utc')\n",
    "day0.rename(columns={'created_utc': 'day0'}, inplace=True)\n",
    "day0.head()"
   ]
  },
  {
   "cell_type": "markdown",
   "metadata": {},
   "source": [
    "## Combine the initial dataframe with comment timestamps"
   ]
  },
  {
   "cell_type": "code",
   "execution_count": 6,
   "metadata": {},
   "outputs": [
    {
     "data": {
      "text/html": [
       "<div>\n",
       "<style scoped>\n",
       "    .dataframe tbody tr th:only-of-type {\n",
       "        vertical-align: middle;\n",
       "    }\n",
       "\n",
       "    .dataframe tbody tr th {\n",
       "        vertical-align: top;\n",
       "    }\n",
       "\n",
       "    .dataframe thead th {\n",
       "        text-align: right;\n",
       "    }\n",
       "</style>\n",
       "<table border=\"1\" class=\"dataframe\">\n",
       "  <thead>\n",
       "    <tr style=\"text-align: right;\">\n",
       "      <th></th>\n",
       "      <th>author</th>\n",
       "      <th>nDays</th>\n",
       "    </tr>\n",
       "  </thead>\n",
       "  <tbody>\n",
       "    <tr>\n",
       "      <th>0</th>\n",
       "      <td>irwinator</td>\n",
       "      <td>0</td>\n",
       "    </tr>\n",
       "    <tr>\n",
       "      <th>417044</th>\n",
       "      <td>irwinator</td>\n",
       "      <td>1</td>\n",
       "    </tr>\n",
       "    <tr>\n",
       "      <th>3124070</th>\n",
       "      <td>irwinator</td>\n",
       "      <td>6</td>\n",
       "    </tr>\n",
       "    <tr>\n",
       "      <th>5128406</th>\n",
       "      <td>irwinator</td>\n",
       "      <td>9</td>\n",
       "    </tr>\n",
       "    <tr>\n",
       "      <th>7285615</th>\n",
       "      <td>irwinator</td>\n",
       "      <td>13</td>\n",
       "    </tr>\n",
       "  </tbody>\n",
       "</table>\n",
       "</div>"
      ],
      "text/plain": [
       "            author  nDays\n",
       "0        irwinator      0\n",
       "417044   irwinator      1\n",
       "3124070  irwinator      6\n",
       "5128406  irwinator      9\n",
       "7285615  irwinator     13"
      ]
     },
     "execution_count": 6,
     "metadata": {},
     "output_type": "execute_result"
    }
   ],
   "source": [
    "df_merged = pd.merge(df, day0, left_on='author', right_index=True)\n",
    "df_merged['nDays'] = (df_merged['created_utc'] - df_merged['day0']).dt.days\n",
    "df_merged.drop(['created_utc', 'day0'], axis=1, inplace=True)\n",
    "df_merged.drop_duplicates(inplace=True)\n",
    "df_merged.head()"
   ]
  },
  {
   "cell_type": "markdown",
   "metadata": {},
   "source": [
    "## Pivot the dataframe with authors on one axis and days they commented on another"
   ]
  },
  {
   "cell_type": "code",
   "execution_count": 7,
   "metadata": {},
   "outputs": [
    {
     "data": {
      "text/html": [
       "<div>\n",
       "<style scoped>\n",
       "    .dataframe tbody tr th:only-of-type {\n",
       "        vertical-align: middle;\n",
       "    }\n",
       "\n",
       "    .dataframe tbody tr th {\n",
       "        vertical-align: top;\n",
       "    }\n",
       "\n",
       "    .dataframe thead th {\n",
       "        text-align: right;\n",
       "    }\n",
       "</style>\n",
       "<table border=\"1\" class=\"dataframe\">\n",
       "  <thead>\n",
       "    <tr style=\"text-align: right;\">\n",
       "      <th>author</th>\n",
       "      <th>irwinator</th>\n",
       "      <th>AddictivePotential</th>\n",
       "      <th>Solumin</th>\n",
       "      <th>AliasSigma</th>\n",
       "      <th>[deleted]</th>\n",
       "      <th>hecticengine</th>\n",
       "      <th>homer1969</th>\n",
       "      <th>rco8786</th>\n",
       "      <th>kagutsuchi</th>\n",
       "      <th>elliottblackwood</th>\n",
       "      <th>...</th>\n",
       "      <th>eggmaker</th>\n",
       "      <th>a_cure_for_death</th>\n",
       "      <th>snazzius</th>\n",
       "      <th>alliteratorsalmanac</th>\n",
       "      <th>sutenlikedat</th>\n",
       "      <th>MemeWatcher</th>\n",
       "      <th>Vogad</th>\n",
       "      <th>koopa-poopa</th>\n",
       "      <th>BricksThrown</th>\n",
       "      <th>pearson32</th>\n",
       "    </tr>\n",
       "    <tr>\n",
       "      <th>nDays</th>\n",
       "      <th></th>\n",
       "      <th></th>\n",
       "      <th></th>\n",
       "      <th></th>\n",
       "      <th></th>\n",
       "      <th></th>\n",
       "      <th></th>\n",
       "      <th></th>\n",
       "      <th></th>\n",
       "      <th></th>\n",
       "      <th></th>\n",
       "      <th></th>\n",
       "      <th></th>\n",
       "      <th></th>\n",
       "      <th></th>\n",
       "      <th></th>\n",
       "      <th></th>\n",
       "      <th></th>\n",
       "      <th></th>\n",
       "      <th></th>\n",
       "      <th></th>\n",
       "    </tr>\n",
       "  </thead>\n",
       "  <tbody>\n",
       "    <tr>\n",
       "      <th>0</th>\n",
       "      <td>1.0</td>\n",
       "      <td>1.0</td>\n",
       "      <td>1.0</td>\n",
       "      <td>1.0</td>\n",
       "      <td>1.0</td>\n",
       "      <td>1.0</td>\n",
       "      <td>1.0</td>\n",
       "      <td>1.0</td>\n",
       "      <td>1.0</td>\n",
       "      <td>1.0</td>\n",
       "      <td>...</td>\n",
       "      <td>1.0</td>\n",
       "      <td>1.0</td>\n",
       "      <td>1.0</td>\n",
       "      <td>1.0</td>\n",
       "      <td>1.0</td>\n",
       "      <td>1.0</td>\n",
       "      <td>1.0</td>\n",
       "      <td>1.0</td>\n",
       "      <td>1.0</td>\n",
       "      <td>1.0</td>\n",
       "    </tr>\n",
       "    <tr>\n",
       "      <th>1</th>\n",
       "      <td>1.0</td>\n",
       "      <td>NaN</td>\n",
       "      <td>NaN</td>\n",
       "      <td>1.0</td>\n",
       "      <td>1.0</td>\n",
       "      <td>NaN</td>\n",
       "      <td>1.0</td>\n",
       "      <td>1.0</td>\n",
       "      <td>1.0</td>\n",
       "      <td>NaN</td>\n",
       "      <td>...</td>\n",
       "      <td>NaN</td>\n",
       "      <td>NaN</td>\n",
       "      <td>NaN</td>\n",
       "      <td>NaN</td>\n",
       "      <td>NaN</td>\n",
       "      <td>NaN</td>\n",
       "      <td>NaN</td>\n",
       "      <td>NaN</td>\n",
       "      <td>NaN</td>\n",
       "      <td>NaN</td>\n",
       "    </tr>\n",
       "    <tr>\n",
       "      <th>2</th>\n",
       "      <td>NaN</td>\n",
       "      <td>1.0</td>\n",
       "      <td>NaN</td>\n",
       "      <td>1.0</td>\n",
       "      <td>1.0</td>\n",
       "      <td>NaN</td>\n",
       "      <td>1.0</td>\n",
       "      <td>1.0</td>\n",
       "      <td>1.0</td>\n",
       "      <td>NaN</td>\n",
       "      <td>...</td>\n",
       "      <td>NaN</td>\n",
       "      <td>NaN</td>\n",
       "      <td>NaN</td>\n",
       "      <td>NaN</td>\n",
       "      <td>NaN</td>\n",
       "      <td>NaN</td>\n",
       "      <td>NaN</td>\n",
       "      <td>NaN</td>\n",
       "      <td>NaN</td>\n",
       "      <td>NaN</td>\n",
       "    </tr>\n",
       "    <tr>\n",
       "      <th>3</th>\n",
       "      <td>NaN</td>\n",
       "      <td>NaN</td>\n",
       "      <td>NaN</td>\n",
       "      <td>1.0</td>\n",
       "      <td>1.0</td>\n",
       "      <td>1.0</td>\n",
       "      <td>NaN</td>\n",
       "      <td>1.0</td>\n",
       "      <td>NaN</td>\n",
       "      <td>NaN</td>\n",
       "      <td>...</td>\n",
       "      <td>NaN</td>\n",
       "      <td>NaN</td>\n",
       "      <td>NaN</td>\n",
       "      <td>NaN</td>\n",
       "      <td>NaN</td>\n",
       "      <td>NaN</td>\n",
       "      <td>NaN</td>\n",
       "      <td>NaN</td>\n",
       "      <td>NaN</td>\n",
       "      <td>NaN</td>\n",
       "    </tr>\n",
       "    <tr>\n",
       "      <th>4</th>\n",
       "      <td>NaN</td>\n",
       "      <td>1.0</td>\n",
       "      <td>NaN</td>\n",
       "      <td>1.0</td>\n",
       "      <td>1.0</td>\n",
       "      <td>NaN</td>\n",
       "      <td>NaN</td>\n",
       "      <td>1.0</td>\n",
       "      <td>NaN</td>\n",
       "      <td>NaN</td>\n",
       "      <td>...</td>\n",
       "      <td>NaN</td>\n",
       "      <td>NaN</td>\n",
       "      <td>NaN</td>\n",
       "      <td>NaN</td>\n",
       "      <td>NaN</td>\n",
       "      <td>NaN</td>\n",
       "      <td>NaN</td>\n",
       "      <td>NaN</td>\n",
       "      <td>NaN</td>\n",
       "      <td>NaN</td>\n",
       "    </tr>\n",
       "  </tbody>\n",
       "</table>\n",
       "<p>5 rows × 1125887 columns</p>\n",
       "</div>"
      ],
      "text/plain": [
       "author  irwinator  AddictivePotential  Solumin  AliasSigma  [deleted]  \\\n",
       "nDays                                                                   \n",
       "0             1.0                 1.0      1.0         1.0        1.0   \n",
       "1             1.0                 NaN      NaN         1.0        1.0   \n",
       "2             NaN                 1.0      NaN         1.0        1.0   \n",
       "3             NaN                 NaN      NaN         1.0        1.0   \n",
       "4             NaN                 1.0      NaN         1.0        1.0   \n",
       "\n",
       "author  hecticengine  homer1969  rco8786  kagutsuchi  elliottblackwood  ...  \\\n",
       "nDays                                                                   ...   \n",
       "0                1.0        1.0      1.0         1.0               1.0  ...   \n",
       "1                NaN        1.0      1.0         1.0               NaN  ...   \n",
       "2                NaN        1.0      1.0         1.0               NaN  ...   \n",
       "3                1.0        NaN      1.0         NaN               NaN  ...   \n",
       "4                NaN        NaN      1.0         NaN               NaN  ...   \n",
       "\n",
       "author  eggmaker  a_cure_for_death  snazzius  alliteratorsalmanac  \\\n",
       "nDays                                                               \n",
       "0            1.0               1.0       1.0                  1.0   \n",
       "1            NaN               NaN       NaN                  NaN   \n",
       "2            NaN               NaN       NaN                  NaN   \n",
       "3            NaN               NaN       NaN                  NaN   \n",
       "4            NaN               NaN       NaN                  NaN   \n",
       "\n",
       "author  sutenlikedat  MemeWatcher  Vogad  koopa-poopa  BricksThrown  pearson32  \n",
       "nDays                                                                           \n",
       "0                1.0          1.0    1.0          1.0           1.0        1.0  \n",
       "1                NaN          NaN    NaN          NaN           NaN        NaN  \n",
       "2                NaN          NaN    NaN          NaN           NaN        NaN  \n",
       "3                NaN          NaN    NaN          NaN           NaN        NaN  \n",
       "4                NaN          NaN    NaN          NaN           NaN        NaN  \n",
       "\n",
       "[5 rows x 1125887 columns]"
      ]
     },
     "execution_count": 7,
     "metadata": {},
     "output_type": "execute_result"
    }
   ],
   "source": [
    "df_merged['commented'] = 1\n",
    "df_pivot = df_merged.pivot(index='nDays', columns='author', values='commented')\n",
    "df_pivot.head()"
   ]
  },
  {
   "cell_type": "markdown",
   "metadata": {},
   "source": [
    "## Sum the number of commenters for each day"
   ]
  },
  {
   "cell_type": "code",
   "execution_count": 8,
   "metadata": {},
   "outputs": [
    {
     "data": {
      "text/plain": [
       "nDays\n",
       "0    1125887.0\n",
       "1     118319.0\n",
       "2      79764.0\n",
       "3      68751.0\n",
       "4      63902.0\n",
       "dtype: float64"
      ]
     },
     "execution_count": 8,
     "metadata": {},
     "output_type": "execute_result"
    }
   ],
   "source": [
    "daySum = df_pivot.sum(axis=1)\n",
    "daySum.head()"
   ]
  },
  {
   "cell_type": "markdown",
   "metadata": {},
   "source": [
    "## Calculate the % of authors who returned after their first comment"
   ]
  },
  {
   "cell_type": "code",
   "execution_count": 9,
   "metadata": {},
   "outputs": [
    {
     "data": {
      "text/plain": [
       "nDays\n",
       "0    1.000000\n",
       "1    0.105090\n",
       "2    0.070845\n",
       "3    0.061064\n",
       "4    0.056757\n",
       "dtype: float64"
      ]
     },
     "execution_count": 9,
     "metadata": {},
     "output_type": "execute_result"
    }
   ],
   "source": [
    "dayPer = daySum/daySum[0]\n",
    "dayPer.head()"
   ]
  },
  {
   "cell_type": "markdown",
   "metadata": {},
   "source": [
    "## Plot retention rate\n",
    "* `Day 1` experiences the greatest drop of retention rate with approximately 10% left\n",
    "* Retention rate stablizes after `Day 7` with cyclic weekly patterns"
   ]
  },
  {
   "cell_type": "code",
   "execution_count": 10,
   "metadata": {},
   "outputs": [
    {
     "data": {
      "image/png": "[encoded data removed]",
      "text/plain": [
       "<Figure size 1440x360 with 1 Axes>"
      ]
     },
     "metadata": {
      "needs_background": "light"
     },
     "output_type": "display_data"
    }
   ],
   "source": [
    "import matplotlib.pyplot as plt\n",
    "plt.figure(figsize=(20,5))\n",
    "ax = dayPer[1:31].plot(kind='bar', color='grey', rot='0')\n",
    "plt.xlabel('Number of Days')\n",
    "plt.ylabel('Retention Rate')\n",
    "for j in [1, 7]: ax.patches[j-1].set_facecolor('red')\n",
    "plt.title('Retention Rate Overtime of ' + i);"
   ]
  },
  {
   "cell_type": "markdown",
   "metadata": {},
   "source": [
    "## Put everything together"
   ]
  },
  {
   "cell_type": "code",
   "execution_count": 11,
   "metadata": {},
   "outputs": [],
   "source": [
    "def getSub(nameSub):\n",
    "    df = DF.loc[DF['subreddit'] == nameSub, ['created_utc', 'author']]\n",
    "    df['created_utc'] = pd.to_datetime(df['created_utc'], unit='s').dt.date\n",
    "    day0 = df.groupby('author').agg({'created_utc': np.min}).sort_values(by='created_utc')\n",
    "    day0.rename(columns={'created_utc': 'day0'}, inplace=True)\n",
    "    \n",
    "    df_merged = pd.merge(df, day0, left_on='author', right_index=True)\n",
    "    df_merged['nDays'] = (df_merged['created_utc'] - df_merged['day0']).dt.days\n",
    "    df_merged.drop(['created_utc', 'day0'], axis=1, inplace =True)\n",
    "    df_merged.drop_duplicates(inplace=True)\n",
    "\n",
    "    df_merged['commented'] = 1\n",
    "    df_pivot = df_merged.pivot(index='nDays', columns='author', values='commented')\n",
    "    \n",
    "    daySum = df_pivot.sum(axis=1)\n",
    "    dayPer = daySum/daySum[0]\n",
    "    \n",
    "    plt.figure(figsize=(20,5))\n",
    "    ax = dayPer[1:31].plot(kind='bar', color='grey', rot='0')\n",
    "    plt.xlabel('Number of Days')\n",
    "    plt.ylabel('Retention Rate')\n",
    "    for j in [1, 7, 30]: ax.patches[j-1].set_facecolor('red')\n",
    "    plt.title('Retention Rate Overtime of ' + i);\n",
    "\n",
    "# for i in top10: getSub(i)"
   ]
  }
 ],
 "metadata": {
  "kernelspec": {
   "display_name": "Python 3",
   "language": "python",
   "name": "python3"
  },
  "language_info": {
   "codemirror_mode": {
    "name": "ipython",
    "version": 3
   },
   "file_extension": ".py",
   "mimetype": "text/x-python",
   "name": "python",
   "nbconvert_exporter": "python",
   "pygments_lexer": "ipython3",
   "version": "3.8.3"
  }
 },
 "nbformat": 4,
 "nbformat_minor": 4
}
